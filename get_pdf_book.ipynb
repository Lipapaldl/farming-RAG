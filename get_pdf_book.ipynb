{
 "cells": [
  {
   "cell_type": "markdown",
   "metadata": {
    "collapsed": false
   },
   "source": [
    "# 解析PDF\n",
    "\n",
    "为了保证数据干净，需要把处理好的txt中前9行和 倒数前四行删掉"
   ]
  },
  {
   "cell_type": "code",
   "execution_count": 4,
   "metadata": {
    "ExecuteTime": {
     "end_time": "2025-01-14T07:06:49.208845100Z",
     "start_time": "2025-01-14T07:06:45.625408Z"
    },
    "collapsed": false
   },
   "outputs": [
    {
     "name": "stdout",
     "output_type": "stream",
     "text": [
      "Looking in indexes: https://mirrors.aliyun.com/pypi/simple/\n",
      "Requirement already satisfied: PyMuPDF in e:\\miniconda\\envs\\rag\\lib\\site-packages (1.25.1)\n",
      "Requirement already satisfied: PyPDF2 in e:\\miniconda\\envs\\rag\\lib\\site-packages (3.0.1)\n",
      "Collecting tiktoken\n",
      "  Downloading https://mirrors.aliyun.com/pypi/packages/d5/3b/7c8812952ca55e1bab08afc1dda3c5991804c71b550b9402e82a082ab795/tiktoken-0.8.0-cp39-cp39-win_amd64.whl (884 kB)\n",
      "     ---------------------------------------- 0.0/884.8 kB ? eta -:--:--\n",
      "     ----------- ---------------------------- 262.1/884.8 kB ? eta -:--:--\n",
      "     --------------------------------- ---- 786.4/884.8 kB 2.2 MB/s eta 0:00:01\n",
      "     -------------------------------------- 884.8/884.8 kB 2.1 MB/s eta 0:00:00\n",
      "Requirement already satisfied: typing_extensions>=3.10.0.0 in e:\\miniconda\\envs\\rag\\lib\\site-packages (from PyPDF2) (4.12.2)\n",
      "Requirement already satisfied: regex>=2022.1.18 in e:\\miniconda\\envs\\rag\\lib\\site-packages (from tiktoken) (2024.11.6)\n",
      "Requirement already satisfied: requests>=2.26.0 in e:\\miniconda\\envs\\rag\\lib\\site-packages (from tiktoken) (2.32.3)\n",
      "Requirement already satisfied: charset-normalizer<4,>=2 in e:\\miniconda\\envs\\rag\\lib\\site-packages (from requests>=2.26.0->tiktoken) (3.4.1)\n",
      "Requirement already satisfied: idna<4,>=2.5 in e:\\miniconda\\envs\\rag\\lib\\site-packages (from requests>=2.26.0->tiktoken) (3.10)\n",
      "Requirement already satisfied: urllib3<3,>=1.21.1 in e:\\miniconda\\envs\\rag\\lib\\site-packages (from requests>=2.26.0->tiktoken) (2.3.0)\n",
      "Requirement already satisfied: certifi>=2017.4.17 in e:\\miniconda\\envs\\rag\\lib\\site-packages (from requests>=2.26.0->tiktoken) (2024.12.14)\n",
      "Installing collected packages: tiktoken\n",
      "Successfully installed tiktoken-0.8.0\n"
     ]
    }
   ],
   "source": [
    "!pip install PyMuPDF PyPDF2 tiktoken"
   ]
  },
  {
   "cell_type": "code",
   "execution_count": 1,
   "metadata": {
    "ExecuteTime": {
     "end_time": "2025-01-14T08:11:46.292595600Z",
     "start_time": "2025-01-14T08:11:38.257475200Z"
    },
    "collapsed": false
   },
   "outputs": [
    {
     "name": "stderr",
     "output_type": "stream",
     "text": [
      "e:\\miniconda\\envs\\RAG\\lib\\site-packages\\torchvision\\datapoints\\__init__.py:12: UserWarning: The torchvision.datapoints and torchvision.transforms.v2 namespaces are still Beta. While we do not expect major breaking changes, some APIs may still change according to user feedback. Please submit any feedback you may have in this issue: https://github.com/pytorch/vision/issues/6753, and you can also check out https://github.com/pytorch/vision/issues/7319 to learn more about the APIs that we suspect might involve future changes. You can silence this warning by calling torchvision.disable_beta_transforms_warning().\n",
      "  warnings.warn(_BETA_TRANSFORMS_WARNING)\n",
      "e:\\miniconda\\envs\\RAG\\lib\\site-packages\\torchvision\\transforms\\v2\\__init__.py:54: UserWarning: The torchvision.datapoints and torchvision.transforms.v2 namespaces are still Beta. While we do not expect major breaking changes, some APIs may still change according to user feedback. Please submit any feedback you may have in this issue: https://github.com/pytorch/vision/issues/6753, and you can also check out https://github.com/pytorch/vision/issues/7319 to learn more about the APIs that we suspect might involve future changes. You can silence this warning by calling torchvision.disable_beta_transforms_warning().\n",
      "  warnings.warn(_BETA_TRANSFORMS_WARNING)\n"
     ]
    }
   ],
   "source": [
    "from Chunk.datachunk import TextChunker\n",
    "from Embedding.model import ChineseBERTEmbedding\n",
    "from VectorDatabase.database import Vectordatabase"
   ]
  },
  {
   "cell_type": "code",
   "execution_count": 11,
   "metadata": {
    "ExecuteTime": {
     "end_time": "2025-01-14T07:49:30.218306700Z",
     "start_time": "2025-01-14T07:49:28.305318900Z"
    },
    "collapsed": false
   },
   "outputs": [
    {
     "name": "stdout",
     "output_type": "stream",
     "text": [
      "成功将 PDF 内容保存为 TXT 文件：Book/齐民要术-石声汉译注.txt\n"
     ]
    }
   ],
   "source": [
    "import fitz  # PyMuPDF\n",
    "\n",
    "def pdf_to_txt(pdf_path, txt_path):\n",
    "    try:\n",
    "        # 打开 PDF 文件\n",
    "        pdf_document = fitz.open(pdf_path)\n",
    "        text_content = \"\"\n",
    "\n",
    "        # 遍历每一页提取文本 : 从第12页开始，后面4页是广告\n",
    "        for page_num in range(11,len(pdf_document) - 4):\n",
    "            page = pdf_document[page_num]\n",
    "            text_content += page.get_text() + \"\\n\"  # 获取当前页的文字内容\n",
    "\n",
    "        # 将提取的文本保存到 TXT 文件\n",
    "        with open(txt_path, \"w\", encoding=\"utf-8\") as txt_file:\n",
    "            txt_file.write(text_content)\n",
    "\n",
    "        print(f\"成功将 PDF 内容保存为 TXT 文件：{txt_path}\")\n",
    "    except Exception as e:\n",
    "        print(f\"发生错误：{e}\")\n",
    "\n",
    "# 文件路径\n",
    "pdf_file = \"Book/齐民要术-石声汉译注.pdf\"  # 输入 PDF 文件路径\n",
    "txt_file = \"Book/齐民要术-石声汉译注.txt\"  # 输出 TXT 文件路径\n",
    "\n",
    "# 执行转换\n",
    "pdf_to_txt(pdf_file, txt_file)"
   ]
  },
  {
   "cell_type": "code",
   "execution_count": 12,
   "metadata": {
    "ExecuteTime": {
     "end_time": "2025-01-14T07:49:36.040615Z",
     "start_time": "2025-01-14T07:49:35.996919400Z"
    },
    "collapsed": false
   },
   "outputs": [
    {
     "name": "stdout",
     "output_type": "stream",
     "text": [
      "成功处理文本并保存至：Book/齐民要术.txt\n"
     ]
    }
   ],
   "source": [
    "def clean_and_combine_txt(input_path, output_path):\n",
    "    try:\n",
    "        with open(input_path, \"r\", encoding=\"utf-8\") as file:\n",
    "            lines = file.readlines()\n",
    "\n",
    "        # 删除空行并去掉每行的首尾空格\n",
    "        cleaned_lines = [line.strip() for line in lines if line.strip()]\n",
    "\n",
    "        # 拼接所有行，按段落合并（用空格连接）\n",
    "        combined_text = \" \".join(cleaned_lines)\n",
    "\n",
    "        # 将处理后的文本写入新文件\n",
    "        with open(output_path, \"w\", encoding=\"utf-8\") as file:\n",
    "            file.write(combined_text)\n",
    "\n",
    "        print(f\"成功处理文本并保存至：{output_path}\")\n",
    "    except Exception as e:\n",
    "        print(f\"发生错误：{e}\")\n",
    "\n",
    "# 文件路径\n",
    "input_txt = \"Book/齐民要术-石声汉译注.txt\"  # 输入 TXT 文件路径\n",
    "output_txt = \"Book/齐民要术.txt\"  # 输出处理后 TXT 文件路径\n",
    "\n",
    "# 执行清理和拼接\n",
    "clean_and_combine_txt(input_txt, output_txt)"
   ]
  },
  {
   "cell_type": "code",
   "execution_count": 4,
   "metadata": {
    "ExecuteTime": {
     "end_time": "2025-01-14T07:59:50.207817300Z",
     "start_time": "2025-01-14T07:59:50.177817900Z"
    },
    "collapsed": false
   },
   "outputs": [
    {
     "name": "stdout",
     "output_type": "stream",
     "text": [
      "总字数（去空格）：696830\n",
      "总行数：1\n",
      "总段落数：1\n",
      "总单词数：49507\n"
     ]
    }
   ],
   "source": [
    "def analyze_text(file_path):\n",
    "    try:\n",
    "        with open(file_path, \"r\", encoding=\"utf-8\") as file:\n",
    "            content = file.read()\n",
    "\n",
    "        # 统计总字数（去掉空格后的字符总数）\n",
    "        total_characters = len(content.replace(\" \", \"\").replace(\"\\n\", \"\"))\n",
    "\n",
    "        # 统计总行数\n",
    "        lines = content.splitlines()\n",
    "        total_lines = len(lines)\n",
    "\n",
    "        # 统计段落数（按空行分割段落）\n",
    "        paragraphs = [para.strip() for para in content.split(\"\\n\\n\") if para.strip()]\n",
    "        total_paragraphs = len(paragraphs)\n",
    "\n",
    "        # 统计单词数（按空格分割的词汇总数）\n",
    "        words = content.split()\n",
    "        total_words = len(words)\n",
    "\n",
    "        # 打印统计结果\n",
    "        print(f\"总字数（去空格）：{total_characters}\")\n",
    "        print(f\"总行数：{total_lines}\")\n",
    "        print(f\"总段落数：{total_paragraphs}\")\n",
    "        print(f\"总单词数：{total_words}\")\n",
    "\n",
    "        # 返回统计结果（如果需要进一步使用）\n",
    "        return {\n",
    "            \"total_characters\": total_characters,\n",
    "            \"total_lines\": total_lines,\n",
    "            \"total_paragraphs\": total_paragraphs,\n",
    "            \"total_words\": total_words,\n",
    "        }\n",
    "    except Exception as e:\n",
    "        print(f\"发生错误：{e}\")\n",
    "\n",
    "# 文件路径\n",
    "txt_file = \"Book/齐民要术.txt\"  # 输入 TXT 文件路径\n",
    "\n",
    "# 执行统计分析\n",
    "stats = analyze_text(txt_file)"
   ]
  },
  {
   "cell_type": "code",
   "execution_count": 7,
   "metadata": {
    "ExecuteTime": {
     "end_time": "2025-01-14T08:00:42.240552600Z",
     "start_time": "2025-01-14T08:00:41.789136300Z"
    },
    "collapsed": false
   },
   "outputs": [
    {
     "data": {
      "text/plain": [
       "list"
      ]
     },
     "execution_count": 7,
     "metadata": {},
     "output_type": "execute_result"
    }
   ],
   "source": [
    "with open(txt_file,\"r\", encoding=\"utf-8\") as file:\n",
    "    content = file.read()\n",
    "    chunker = TextChunker(content)\n",
    "    chunks = chunker.chunk_text(chunk_size=200, overlap=150)\n",
    "chunks"
   ]
  },
  {
   "cell_type": "markdown",
   "metadata": {
    "collapsed": false
   },
   "source": [
    "# 加载模型，把文本向量化存储"
   ]
  },
  {
   "cell_type": "code",
   "execution_count": 8,
   "metadata": {
    "ExecuteTime": {
     "end_time": "2025-01-14T08:10:03.291417500Z",
     "start_time": "2025-01-14T08:00:53.904467200Z"
    },
    "collapsed": false
   },
   "outputs": [
    {
     "name": "stderr",
     "output_type": "stream",
     "text": [
      "100%|██████████| 18016/18016 [08:50<00:00, 33.94it/s]\n"
     ]
    }
   ],
   "source": [
    "#嵌入模型：将文本向量化\n",
    "embedding_model = ChineseBERTEmbedding()\n",
    "#向量库\n",
    "database = Vectordatabase(chunks)\n",
    "\n",
    "#对字块列表进行，批量的embedded编码，传入embedding模型，返回一个向量列表\n",
    "Vectors = database.get_vector(embedding_model)\n",
    "#把向量列表存储到json文件中，把子块列表也存储到json文件\n",
    "database.persist()"
   ]
  },
  {
   "cell_type": "markdown",
   "metadata": {
    "collapsed": false
   },
   "source": [
    "# 测试"
   ]
  },
  {
   "cell_type": "code",
   "execution_count": 2,
   "metadata": {
    "ExecuteTime": {
     "end_time": "2025-01-14T08:16:14.646619300Z",
     "start_time": "2025-01-14T08:16:04.890744900Z"
    },
    "collapsed": false
   },
   "outputs": [
    {
     "data": {
      "text/plain": [
       "['稻田，水稻的田间管理，水稻的收获 及稻种的储藏，舂稻米的注意事项等都作了详细 地记述。 11.3.1中水稻先浸种到“芽长二分”再播种的记 叙，可能是有关“浸种”的最早文字记载。 水稻，产量高。因为它能靠水层保持比较稳 定的温度，所以对水的要求很严格。水过多过少 都不能生长，含泥过多的浊水也对生长不利。水 稻种植的关键之一是管好水。本篇详细介绍了',\n",
       " '，也可以晒作干菜。现代有学者认 为：蜀芥，可能是大芥菜；芥子，可能是小芥 菜。芸薹则是油菜的一种，植株较矮小，现在北 方地区还普遍栽种。标题注中所说的水苏、劳蒩 实际上与“芥”无涉。 贾思勰介绍了它们的播种（季节、对土质的 要求、种子用量等），田间管理。特别提醒：用 叶子的在七月半下种，十月收；预备收子用的， 则在二三月种，五',\n",
       " '成熟有早有晚，谷苗茎秆有高 有矮，收下的种实有多有少，植株质地性状有的 坚强有的软弱，谷米的味道有的好有的不好，谷 粒舂成米时有的耗折多，有的耗折少。成熟早 的，茎秆矮，但收获量大；成熟晚的，茎秆高而收获 量少。植株坚强的，都矮小，黄谷就是这样；植株软 弱的，就长得高，青谷、白谷、黑谷',\n",
       " '�坚强的，都矮小，黄谷就是这样；植株软 弱的，就长得高，青谷、白谷、黑谷是这样。收获量 少的味道好，但折耗多；收获量高的，味道不好而折 耗少。另一方面，种谷的地，肥力有高低，好地宜于 晚些种，瘦地必须早种。好地不仅宜于晚些种，种早 了也不会有妨害；瘦地必须早种，种晚了一定没有种 实可收。不同的地形条件，也应当作不同的',\n",
       " '谷子一样。 5.3.3\\u3000收刈欲晚。性不零落，早刈损实。 【译文】 5.3.3\\u3000收割要迟。粱和秫都不落粒，收割太 早，便长不饱满，种实有损失。 大豆第六 【题解】 6.1.1—6.1.5为篇标题注。 大豆是我国原产。考古学的成果证明，大豆 在我国的栽培已有悠久的历史。大豆蛋白质最接 近动物性蛋白质的标准，营养价值']"
      ]
     },
     "execution_count": 2,
     "metadata": {},
     "output_type": "execute_result"
    }
   ],
   "source": [
    "text = \"如何选用优质的稻种\"\n",
    "#嵌入模型：将文本向量化\n",
    "embedding_model = ChineseBERTEmbedding()\n",
    "\n",
    "database = Vectordatabase()\n",
    "\n",
    "database.load_vector()\n",
    "\n",
    "result = database.query(text,embedding_model,5)\n",
    "result"
   ]
  },
  {
   "cell_type": "code",
   "execution_count": 17,
   "metadata": {
    "collapsed": false
   },
   "outputs": [
    {
     "data": {
      "text/plain": [
       "{'choices': [{'finish_reason': 'stop',\n",
       "   'index': 0,\n",
       "   'message': {'content': '您好，看起来您可能是在询问如何选择优质的稻种。在《齐民要术》中，贾思勰详细讨论了稻种的挑选和种植方法，以下是一些关键点：\\n\\n1. 成熟早晚：成熟早的稻种茎秆较矮，但收获量大；成熟晚的稻种茎秆高，但收获量少。\\n\\n2. 植株强弱：植株坚强的稻种都矮小，如黄谷；植株软弱的稻种就长得高，如青谷、白谷、黑谷。\\n\\n3. 味道与折耗：收获量少的味道好，但折耗多；收获量高的味道不好，但折耗少。\\n\\n4. 土壤肥力：肥力高的土壤宜于晚些种植，瘦地必须早种。\\n\\n5. 地形条件：不同的地形条件也应当作不同的安排。\\n\\n6. 浸种方法：11.3.1中提到水稻先浸种到“芽长二分”再播种，可能是最早的浸种技术记载。\\n\\n7. 田间管理：详细介绍了水稻的田间管理，包括水分管理、病虫害防治等。\\n\\n8. 收获与储藏：讲述了水稻的收割与储藏方法。\\n\\n选择稻种时，要根据当地的土壤、气候条件和种植习惯，选择合适的品种，并在种植过程中注意田间管理，以获得理想的产量和品质。希望这些信息对您有所帮助。如果您还有其他问题，欢迎继续咨询。',\n",
       "    'role': 'assistant'}}],\n",
       " 'created': 1736845545,\n",
       " 'id': '202501141705337e14a11acfbd4f14',\n",
       " 'model': 'glm-3-turbo',\n",
       " 'request_id': '202501141705337e14a11acfbd4f14',\n",
       " 'usage': {'completion_tokens': 326,\n",
       "  'prompt_tokens': 8019,\n",
       "  'total_tokens': 8345}}"
      ]
     },
     "execution_count": 17,
     "metadata": {},
     "output_type": "execute_result"
    }
   ],
   "source": [
    "import time ,jwt,requests\n",
    "# LLM智谱大模型API\n",
    "def generate_token(apikey: str, exp_seconds: int):\n",
    "    try:\n",
    "        id, secret = apikey.split(\".\")\n",
    "    except Exception as e:\n",
    "        raise Exception(\"invalid apikey\", e)\n",
    "    payload = {\n",
    "        \"api_key\": id,\n",
    "        \"exp\": int(round(time.time() * 1000)) + exp_seconds * 1000,\n",
    "        \"timestamp\": int(round(time.time() * 1000)),\n",
    "    }\n",
    "    return jwt.encode(\n",
    "        payload,\n",
    "        secret,\n",
    "        algorithm=\"HS256\",\n",
    "        headers={\"alg\": \"HS256\", \"sign_type\": \"SIGN\"},\n",
    "    )\n",
    "\n",
    "def ask_glm(key, model, max_tokens, temperature, content):\n",
    "    # 智谱大模型\n",
    "    url = \"https://open.bigmodel.cn/api/paas/v4/chat/completions\"\n",
    "    headers = {\n",
    "        'Content-Type': 'application/json',\n",
    "        'Authorization': generate_token(key, 1000)\n",
    "    }\n",
    "\n",
    "    data = {\n",
    "        \"model\": model,\n",
    "        \"max_tokens\": max_tokens,\n",
    "        \"temperature\": temperature,\n",
    "        \"messages\": content\n",
    "    }\n",
    "\n",
    "    response = requests.post(url, headers=headers, json=data)\n",
    "\n",
    "    return response.json()\n",
    "#你的API\n",
    "text = text + str(result)\n",
    "key = \"8b00afab1e7440a29b2cc9dba6e17f94.pjG00RsmnmyiHqsG\"\n",
    "content = [{\"role\": \"user\", \"content\": text}]\n",
    "full_response = ask_glm(key, \"glm-3-turbo\", 512, 0.8,content)"
   ]
  },
  {
   "cell_type": "code",
   "execution_count": 18,
   "metadata": {},
   "outputs": [
    {
     "data": {
      "text/plain": [
       "'您好，看起来您可能是在询问如何选择优质的稻种。在《齐民要术》中，贾思勰详细讨论了稻种的挑选和种植方法，以下是一些关键点：\\n\\n1. 成熟早晚：成熟早的稻种茎秆较矮，但收获量大；成熟晚的稻种茎秆高，但收获量少。\\n\\n2. 植株强弱：植株坚强的稻种都矮小，如黄谷；植株软弱的稻种就长得高，如青谷、白谷、黑谷。\\n\\n3. 味道与折耗：收获量少的味道好，但折耗多；收获量高的味道不好，但折耗少。\\n\\n4. 土壤肥力：肥力高的土壤宜于晚些种植，瘦地必须早种。\\n\\n5. 地形条件：不同的地形条件也应当作不同的安排。\\n\\n6. 浸种方法：11.3.1中提到水稻先浸种到“芽长二分”再播种，可能是最早的浸种技术记载。\\n\\n7. 田间管理：详细介绍了水稻的田间管理，包括水分管理、病虫害防治等。\\n\\n8. 收获与储藏：讲述了水稻的收割与储藏方法。\\n\\n选择稻种时，要根据当地的土壤、气候条件和种植习惯，选择合适的品种，并在种植过程中注意田间管理，以获得理想的产量和品质。希望这些信息对您有所帮助。如果您还有其他问题，欢迎继续咨询。'"
      ]
     },
     "execution_count": 18,
     "metadata": {},
     "output_type": "execute_result"
    }
   ],
   "source": [
    "full_response['choices'][0]['message']['content']"
   ]
  }
 ],
 "metadata": {
  "kernelspec": {
   "display_name": "RAG",
   "language": "python",
   "name": "python3"
  },
  "language_info": {
   "codemirror_mode": {
    "name": "ipython",
    "version": 3
   },
   "file_extension": ".py",
   "mimetype": "text/x-python",
   "name": "python",
   "nbconvert_exporter": "python",
   "pygments_lexer": "ipython3",
   "version": "3.9.21"
  }
 },
 "nbformat": 4,
 "nbformat_minor": 0
}
